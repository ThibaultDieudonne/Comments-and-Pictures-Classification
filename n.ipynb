{
 "cells": [
  {
   "cell_type": "markdown",
   "id": "527d7230",
   "metadata": {},
   "source": [
    "# Améliorez le produit IA de votre start-up"
   ]
  },
  {
   "cell_type": "markdown",
   "id": "337050bb",
   "metadata": {},
   "source": [
    "## Traitement des commentaires"
   ]
  },
  {
   "cell_type": "code",
   "execution_count": 1,
   "id": "efd2e7f6",
   "metadata": {},
   "outputs": [],
   "source": [
    "import os\n",
    "import numpy as np\n",
    "import pandas as pd\n",
    "import random\n",
    "import seaborn as sns\n",
    "import matplotlib.pyplot as plt\n",
    "import nltk\n",
    "from nltk.stem.snowball import EnglishStemmer\n",
    "from nltk.tokenize import sent_tokenize, word_tokenize\n",
    "import gensim\n",
    "from gensim.models import Word2Vec\n",
    "from sklearn.decomposition import LatentDirichletAllocation\n",
    "from sklearn.feature_extraction.text import CountVectorizer\n",
    "import warnings\n",
    "\n",
    "warnings.simplefilter(action='ignore', category=FutureWarning)\n",
    "pd.set_option('display.max_rows', None)\n",
    "pd.set_option('display.max_columns', None)\n",
    "pd.set_option('display.width', None)\n",
    "pd.set_option('display.max_colwidth', -1)\n",
    "\n",
    "# nltk.download()\n",
    "\n",
    "debug = 1\n",
    "\n",
    "if debug:\n",
    "    nrows = 500\n",
    "else:\n",
    "    nrows = None"
   ]
  },
  {
   "cell_type": "code",
   "execution_count": 2,
   "id": "cc115d6e",
   "metadata": {},
   "outputs": [],
   "source": [
    "filename = './yelp_dataset/yelp_academic_dataset_review.json' \n",
    "comments = pd.read_json(filename, lines=True, nrows=nrows)"
   ]
  },
  {
   "cell_type": "code",
   "execution_count": 3,
   "id": "51086f84",
   "metadata": {},
   "outputs": [
    {
     "data": {
      "text/html": [
       "<div>\n",
       "<style scoped>\n",
       "    .dataframe tbody tr th:only-of-type {\n",
       "        vertical-align: middle;\n",
       "    }\n",
       "\n",
       "    .dataframe tbody tr th {\n",
       "        vertical-align: top;\n",
       "    }\n",
       "\n",
       "    .dataframe thead th {\n",
       "        text-align: right;\n",
       "    }\n",
       "</style>\n",
       "<table border=\"1\" class=\"dataframe\">\n",
       "  <thead>\n",
       "    <tr style=\"text-align: right;\">\n",
       "      <th></th>\n",
       "      <th>review_id</th>\n",
       "      <th>user_id</th>\n",
       "      <th>business_id</th>\n",
       "      <th>stars</th>\n",
       "      <th>useful</th>\n",
       "      <th>funny</th>\n",
       "      <th>cool</th>\n",
       "      <th>text</th>\n",
       "      <th>date</th>\n",
       "    </tr>\n",
       "  </thead>\n",
       "  <tbody>\n",
       "    <tr>\n",
       "      <th>0</th>\n",
       "      <td>lWC-xP3rd6obsecCYsGZRg</td>\n",
       "      <td>ak0TdVmGKo4pwqdJSTLwWw</td>\n",
       "      <td>buF9druCkbuXLX526sGELQ</td>\n",
       "      <td>4</td>\n",
       "      <td>3</td>\n",
       "      <td>1</td>\n",
       "      <td>1</td>\n",
       "      <td>Apparently Prides Osteria had a rough summer as evidenced by the almost empty dining room at 6:30 on a Friday night. However new blood in the kitchen seems to have revitalized the food from other customers recent visits. Waitstaff was warm but unobtrusive. By 8 pm or so when we left the bar was full and the dining room was much more lively than it had been. Perhaps Beverly residents prefer a later seating. \\n\\nAfter reading the mixed reviews of late I was a little tentative over our choice but luckily there was nothing to worry about in the food department. We started with the fried dough, burrata and prosciutto which were all lovely. Then although they don't offer half portions of pasta we each ordered the entree size and split them. We chose the tagliatelle bolognese and a four cheese filled pasta in a creamy sauce with bacon, asparagus and grana frita. Both were very good. We split a secondi which was the special Berkshire pork secreto, which was described as a pork skirt steak with garlic potato purée and romanesco broccoli (incorrectly described as a romanesco sauce). Some tables received bread before the meal but for some reason we did not. \\n\\nManagement also seems capable for when the tenants in the apartment above began playing basketball she intervened and also comped the tables a dessert. We ordered the apple dumpling with gelato and it was also quite tasty. Portions are not huge which I particularly like because I prefer to order courses. If you are someone who orders just a meal you may leave hungry depending on you appetite. Dining room was mostly younger crowd while the bar was definitely the over 40 set. Would recommend that the naysayers return to see the improvement although I personally don't know the former glory to be able to compare. Easy access to downtown Salem without the crowds on this month of October.</td>\n",
       "      <td>2014-10-11 03:34:02</td>\n",
       "    </tr>\n",
       "    <tr>\n",
       "      <th>1</th>\n",
       "      <td>8bFej1QE5LXp4O05qjGqXA</td>\n",
       "      <td>YoVfDbnISlW0f7abNQACIg</td>\n",
       "      <td>RA4V8pr014UyUbDvI-LW2A</td>\n",
       "      <td>4</td>\n",
       "      <td>1</td>\n",
       "      <td>0</td>\n",
       "      <td>0</td>\n",
       "      <td>This store is pretty good. Not as great as Walmart (or my preferred, Milford Target), but closer and in a easier area to get to.  \\nThe store itself is pretty clean and organized, the staff are friendly (most of the time), and BEST of all is the Self Checkout this store has! \\nGreat clearance sections throughout, and great prices on everything in the store, in general (they pricematch too!). \\nChristian, Debbie, Jen and Hanna are all very friendly, helpful, sensitive to all customer needs. Definitely one of the better Target locations in the area, and they do a GREAT job assisting customers for being such a busy store. Located directly in the Framingham Mall on Cochituate Rd / Route 30. 4 stars.</td>\n",
       "      <td>2015-07-03 20:38:25</td>\n",
       "    </tr>\n",
       "    <tr>\n",
       "      <th>2</th>\n",
       "      <td>NDhkzczKjLshODbqDoNLSg</td>\n",
       "      <td>eC5evKn1TWDyHCyQAwguUw</td>\n",
       "      <td>_sS2LBIGNT5NQb6PD1Vtjw</td>\n",
       "      <td>5</td>\n",
       "      <td>0</td>\n",
       "      <td>0</td>\n",
       "      <td>0</td>\n",
       "      <td>I called WVM on the recommendation of a couple of friends who had used them in the past and thought they did a nice job. I'm a fan now, too.\\n\\nEvan and Cody showed up right on time for my move this past weekend. They were friendly and energetic, working quickly but carefully to get all my things moved out of the old place and into the new one in less than 2.5 hours. All of my (heavy) furniture arrived in perfect condition, and they took extra care not to scratch the wood floors in the process.\\n\\nI hope not to move again anytime soon, but next time I do, I'll be calling WVM.</td>\n",
       "      <td>2013-05-28 20:38:06</td>\n",
       "    </tr>\n",
       "    <tr>\n",
       "      <th>3</th>\n",
       "      <td>T5fAqjjFooT4V0OeZyuk1w</td>\n",
       "      <td>SFQ1jcnGguO0LYWnbbftAA</td>\n",
       "      <td>0AzLzHfOJgL7ROwhdww2ew</td>\n",
       "      <td>2</td>\n",
       "      <td>1</td>\n",
       "      <td>1</td>\n",
       "      <td>1</td>\n",
       "      <td>I've stayed at many Marriott and Renaissance Marriott's and this was a huge disappointment! The front desk and atrium is nice..there is a starbucks on site which is nice.\\n\\nThe rooms are run down and old.  There is a flat screen but that is to be expected of a Renaissance.\\n\\nWe got this hotel via Priceline at a rate of $75/night...good deal for the price but this is not a true Renaissance.</td>\n",
       "      <td>2010-01-08 02:29:15</td>\n",
       "    </tr>\n",
       "    <tr>\n",
       "      <th>4</th>\n",
       "      <td>sjm_uUcQVxab_EeLCqsYLg</td>\n",
       "      <td>0kA0PAJ8QFMeveQWHFqz2A</td>\n",
       "      <td>8zehGz9jnxPqXtOc7KaJxA</td>\n",
       "      <td>4</td>\n",
       "      <td>0</td>\n",
       "      <td>0</td>\n",
       "      <td>0</td>\n",
       "      <td>The food is always great here. The service from both the manager as well as the staff is super. Only draw back of this restaurant is it's super loud. If you can, snag a patio table!</td>\n",
       "      <td>2011-07-28 18:05:01</td>\n",
       "    </tr>\n",
       "  </tbody>\n",
       "</table>\n",
       "</div>"
      ],
      "text/plain": [
       "                review_id                 user_id             business_id  \\\n",
       "0  lWC-xP3rd6obsecCYsGZRg  ak0TdVmGKo4pwqdJSTLwWw  buF9druCkbuXLX526sGELQ   \n",
       "1  8bFej1QE5LXp4O05qjGqXA  YoVfDbnISlW0f7abNQACIg  RA4V8pr014UyUbDvI-LW2A   \n",
       "2  NDhkzczKjLshODbqDoNLSg  eC5evKn1TWDyHCyQAwguUw  _sS2LBIGNT5NQb6PD1Vtjw   \n",
       "3  T5fAqjjFooT4V0OeZyuk1w  SFQ1jcnGguO0LYWnbbftAA  0AzLzHfOJgL7ROwhdww2ew   \n",
       "4  sjm_uUcQVxab_EeLCqsYLg  0kA0PAJ8QFMeveQWHFqz2A  8zehGz9jnxPqXtOc7KaJxA   \n",
       "\n",
       "   stars  useful  funny  cool  \\\n",
       "0  4      3       1      1      \n",
       "1  4      1       0      0      \n",
       "2  5      0       0      0      \n",
       "3  2      1       1      1      \n",
       "4  4      0       0      0      \n",
       "\n",
       "                                                                                                                                                                                                                                                                                                                                                                                                                                                                                                                                                                                                                                                                                                                                                                                                                                                                                                                                                                                                                                                                                                                                                                                                                                                                                                                                                                                                                                                                                                                                                                                                                                                                                                                                                                                                                                                                                                                                   text  \\\n",
       "0  Apparently Prides Osteria had a rough summer as evidenced by the almost empty dining room at 6:30 on a Friday night. However new blood in the kitchen seems to have revitalized the food from other customers recent visits. Waitstaff was warm but unobtrusive. By 8 pm or so when we left the bar was full and the dining room was much more lively than it had been. Perhaps Beverly residents prefer a later seating. \\n\\nAfter reading the mixed reviews of late I was a little tentative over our choice but luckily there was nothing to worry about in the food department. We started with the fried dough, burrata and prosciutto which were all lovely. Then although they don't offer half portions of pasta we each ordered the entree size and split them. We chose the tagliatelle bolognese and a four cheese filled pasta in a creamy sauce with bacon, asparagus and grana frita. Both were very good. We split a secondi which was the special Berkshire pork secreto, which was described as a pork skirt steak with garlic potato purée and romanesco broccoli (incorrectly described as a romanesco sauce). Some tables received bread before the meal but for some reason we did not. \\n\\nManagement also seems capable for when the tenants in the apartment above began playing basketball she intervened and also comped the tables a dessert. We ordered the apple dumpling with gelato and it was also quite tasty. Portions are not huge which I particularly like because I prefer to order courses. If you are someone who orders just a meal you may leave hungry depending on you appetite. Dining room was mostly younger crowd while the bar was definitely the over 40 set. Would recommend that the naysayers return to see the improvement although I personally don't know the former glory to be able to compare. Easy access to downtown Salem without the crowds on this month of October.   \n",
       "1  This store is pretty good. Not as great as Walmart (or my preferred, Milford Target), but closer and in a easier area to get to.  \\nThe store itself is pretty clean and organized, the staff are friendly (most of the time), and BEST of all is the Self Checkout this store has! \\nGreat clearance sections throughout, and great prices on everything in the store, in general (they pricematch too!). \\nChristian, Debbie, Jen and Hanna are all very friendly, helpful, sensitive to all customer needs. Definitely one of the better Target locations in the area, and they do a GREAT job assisting customers for being such a busy store. Located directly in the Framingham Mall on Cochituate Rd / Route 30. 4 stars.                                                                                                                                                                                                                                                                                                                                                                                                                                                                                                                                                                                                                                                                                                                                                                                                                                                                                                                                                                                                                                                                                                                                                                                                       \n",
       "2  I called WVM on the recommendation of a couple of friends who had used them in the past and thought they did a nice job. I'm a fan now, too.\\n\\nEvan and Cody showed up right on time for my move this past weekend. They were friendly and energetic, working quickly but carefully to get all my things moved out of the old place and into the new one in less than 2.5 hours. All of my (heavy) furniture arrived in perfect condition, and they took extra care not to scratch the wood floors in the process.\\n\\nI hope not to move again anytime soon, but next time I do, I'll be calling WVM.                                                                                                                                                                                                                                                                                                                                                                                                                                                                                                                                                                                                                                                                                                                                                                                                                                                                                                                                                                                                                                                                                                                                                                                                                                                                                                                                 \n",
       "3  I've stayed at many Marriott and Renaissance Marriott's and this was a huge disappointment! The front desk and atrium is nice..there is a starbucks on site which is nice.\\n\\nThe rooms are run down and old.  There is a flat screen but that is to be expected of a Renaissance.\\n\\nWe got this hotel via Priceline at a rate of $75/night...good deal for the price but this is not a true Renaissance.                                                                                                                                                                                                                                                                                                                                                                                                                                                                                                                                                                                                                                                                                                                                                                                                                                                                                                                                                                                                                                                                                                                                                                                                                                                                                                                                                                                                                                                                                                                             \n",
       "4  The food is always great here. The service from both the manager as well as the staff is super. Only draw back of this restaurant is it's super loud. If you can, snag a patio table!                                                                                                                                                                                                                                                                                                                                                                                                                                                                                                                                                                                                                                                                                                                                                                                                                                                                                                                                                                                                                                                                                                                                                                                                                                                                                                                                                                                                                                                                                                                                                                                                                                                                                                                                                  \n",
       "\n",
       "                 date  \n",
       "0 2014-10-11 03:34:02  \n",
       "1 2015-07-03 20:38:25  \n",
       "2 2013-05-28 20:38:06  \n",
       "3 2010-01-08 02:29:15  \n",
       "4 2011-07-28 18:05:01  "
      ]
     },
     "execution_count": 3,
     "metadata": {},
     "output_type": "execute_result"
    }
   ],
   "source": [
    "comments.head()"
   ]
  },
  {
   "cell_type": "markdown",
   "id": "4e19882c",
   "metadata": {},
   "source": [
    "### Baseline"
   ]
  },
  {
   "cell_type": "code",
   "execution_count": 4,
   "id": "c42b4889",
   "metadata": {},
   "outputs": [],
   "source": [
    "stemmer = EnglishStemmer()\n",
    "tokenizer = nltk.RegexpTokenizer(r'\\w+')\n",
    "stop_words = [stemmer.stem(w) for w in list(nltk.corpus.stopwords.words('english'))]\n",
    "\n",
    "def clean_up(text):\n",
    "    tokens = tokenizer.tokenize(text)\n",
    "    tokens = [stemmer.stem(w) for w in tokens]\n",
    "    tokens = [w for w in tokens if not w in stop_words]\n",
    "    return tokens\n",
    "\n",
    "# print(clean_up(\"Hey, I'm an example text for OpenClassrooms course. Please pay attention !\"))"
   ]
  },
  {
   "cell_type": "code",
   "execution_count": 5,
   "id": "777e774d",
   "metadata": {},
   "outputs": [],
   "source": [
    "tokenized_text = [*map(clean_up, comments[\"text\"].to_list())]"
   ]
  },
  {
   "cell_type": "code",
   "execution_count": 6,
   "id": "42b13b78",
   "metadata": {},
   "outputs": [
    {
     "name": "stdout",
     "output_type": "stream",
     "text": [
      "0.4959898\n"
     ]
    }
   ],
   "source": [
    "# Create CBOW model\n",
    "model1 = gensim.models.Word2Vec(tokenized_text, min_count = 1, vector_size = 100, window = 5)\n",
    "print(model1.wv.similarity('rosebud', 'doorway'))"
   ]
  },
  {
   "cell_type": "code",
   "execution_count": 7,
   "id": "bd7bc0ff",
   "metadata": {},
   "outputs": [
    {
     "name": "stdout",
     "output_type": "stream",
     "text": [
      "['appar pride osteria rough summer evidenc almost empti dine room 6 30 friday night howev new blood kitchen seem revit food custom recent visit waitstaff warm unobtrus 8 pm left bar full dine room much live perhap bever resid prefer later seat read mix review late littl tentat choic luckili noth worri food depart start fri dough burrata prosciutto love although offer half portion pasta order entre size split chose tagliatell bolognes four chees fill pasta creami sauc bacon asparagus grana frita good split secondi special berkshir pork secreto describ pork skirt steak garlic potato puré romanesco broccoli incorrect describ romanesco sauc tabl receiv bread meal reason manag also seem capabl tenant apart began play basketbal interven also comp tabl dessert order appl dumpl gelato also quit tasti portion huge particular like prefer order cours someon order meal may leav hungri depend appetit dine room younger crowd bar definit 40 set would recommend naysay return see improv although person know former glori abl compar easi access downtown salem without crowd month octob', 'store pretti good great walmart prefer milford target closer easier area get store pretti clean organ staff friend time best self checkout store great clearanc section throughout great price everyth store general pricematch christian debbi jen hanna friend help sensit custom need definit one better target locat area great job assist custom busi store locat direct framingham mall cochitu rd rout 30 4 star', 'call wvm recommend coupl friend use past thought nice job fan evan codi show right time move past weekend friend energet work quick care get thing move old place new one less 2 5 hour heavi furnitur arriv perfect condit took extra care scratch wood floor process hope move anytim soon next time call wvm', 'stay mani marriott renaiss marriott huge disappoint front desk atrium nice starbuck site nice room run old flat screen expect renaiss got hotel via pricelin rate 75 night good deal price true renaiss', 'food alway great servic manag well staff super draw back restaur super loud snag patio tabl', 'place use cool chill place bunch neanderth bouncer hop steroid act like whatev want mani better place davi squar glad visit busi sad burren worst place davi', 'set perfect adequ food come close dine chain like chili victoria station barbecu better surpris alway pick coupon linwood restaur com', 'probabl one better breakfast sandwich ever eggmeatmuffin bread toast perfect bacon real thick cut lame bacon familiar convent breakfast diner addit place clean staff help butcher sever differ cut avail knowledg well friend left cut pork beef excit come back', 'definit fan sport author particular locat good check deal came near christma time buy present good experi staff member friend help us find look got golf stuff two pair shoe tenni racket bag bicycl accessori store clean well organ everyth apparel basketbal everyth good spot buy athlet merchandis', 'work pru afford tasti place food court deal meal 5 7 chicken pesto realli good chowda person soup pretti damn good broccoli chicken favorit also probabl person food court staff ever pleasur order']\n"
     ]
    }
   ],
   "source": [
    "text = [' '.join(comment) for comment in tokenized_text]\n",
    "print(text[:10])"
   ]
  },
  {
   "cell_type": "code",
   "execution_count": 8,
   "id": "8648707d",
   "metadata": {},
   "outputs": [],
   "source": [
    "n_topics = 10\n",
    "\n",
    "tf_vectoriser = CountVectorizer(max_df=.95, min_df=2, max_features=1000)\n",
    "tf = tf_vectoriser.fit_transform(text)\n",
    "\n",
    "lda = LatentDirichletAllocation(\n",
    "        n_components=n_topics, \n",
    "        max_iter=5, \n",
    "        learning_method='online', \n",
    "        learning_offset=50.,\n",
    "        random_state=42).fit(tf)\n"
   ]
  },
  {
   "cell_type": "code",
   "execution_count": 9,
   "id": "23092ee1",
   "metadata": {},
   "outputs": [
    {
     "name": "stdout",
     "output_type": "stream",
     "text": [
      "Topic 0:\n",
      "place great food good make super staff shop delici fun\n",
      "Topic 1:\n",
      "wrap hostess falafel custom servic gravi rude level good yelp\n",
      "Topic 2:\n",
      "burger like meat order delici place beef also flavor bacon\n",
      "Topic 3:\n",
      "line cleaner red fast anyth us simpli look know compar\n",
      "Topic 4:\n",
      "fabric like time help great good walk make one friend\n",
      "Topic 5:\n",
      "root need front like go desk realli time place servic\n",
      "Topic 6:\n",
      "mention coffe leas order good us food one told never\n",
      "Topic 7:\n",
      "time get servic go order like back would need look\n",
      "Topic 8:\n",
      "place food good great like go servic time get friend\n",
      "Topic 9:\n",
      "ramen place bowl love base biscuit add custom size great\n"
     ]
    }
   ],
   "source": [
    "def display_topics(model, feature_names, ntw): # multiple runs and hyperparameters optimization are good\n",
    "    for topic_idx, topic in enumerate(model.components_):\n",
    "        print(\"Topic {}:\".format(topic_idx))\n",
    "        print(\" \".join([feature_names[i] for i in topic.argsort()[:-ntw - 1:-1]]))\n",
    "\n",
    "n_top_words = 10\n",
    "display_topics(lda, tf_vectoriser.get_feature_names(), n_top_words)"
   ]
  },
  {
   "cell_type": "code",
   "execution_count": null,
   "id": "cd45bd7f",
   "metadata": {},
   "outputs": [],
   "source": []
  }
 ],
 "metadata": {
  "kernelspec": {
   "display_name": "Python 3",
   "language": "python",
   "name": "python3"
  },
  "language_info": {
   "codemirror_mode": {
    "name": "ipython",
    "version": 3
   },
   "file_extension": ".py",
   "mimetype": "text/x-python",
   "name": "python",
   "nbconvert_exporter": "python",
   "pygments_lexer": "ipython3",
   "version": "3.9.5"
  }
 },
 "nbformat": 4,
 "nbformat_minor": 5
}
