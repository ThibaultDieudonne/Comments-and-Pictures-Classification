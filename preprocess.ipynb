{
 "cells": [
  {
   "cell_type": "code",
   "execution_count": 16,
   "id": "17274dbe",
   "metadata": {},
   "outputs": [],
   "source": [
    "import cv2\n",
    "import pandas as pd\n",
    "import os\n",
    "\n",
    "nrows = 100\n",
    "\n",
    "save_path = \"preprocessed_imgs\""
   ]
  },
  {
   "cell_type": "markdown",
   "id": "81f37436",
   "metadata": {},
   "source": [
    "# Preprocess images"
   ]
  },
  {
   "cell_type": "code",
   "execution_count": 17,
   "id": "4eee5310",
   "metadata": {},
   "outputs": [
    {
     "data": {
      "text/html": [
       "<div>\n",
       "<style scoped>\n",
       "    .dataframe tbody tr th:only-of-type {\n",
       "        vertical-align: middle;\n",
       "    }\n",
       "\n",
       "    .dataframe tbody tr th {\n",
       "        vertical-align: top;\n",
       "    }\n",
       "\n",
       "    .dataframe thead th {\n",
       "        text-align: right;\n",
       "    }\n",
       "</style>\n",
       "<table border=\"1\" class=\"dataframe\">\n",
       "  <thead>\n",
       "    <tr style=\"text-align: right;\">\n",
       "      <th></th>\n",
       "      <th>photo_id</th>\n",
       "    </tr>\n",
       "  </thead>\n",
       "  <tbody>\n",
       "    <tr>\n",
       "      <th>0</th>\n",
       "      <td>Un_Og6jfhazVn7CxszkKEw</td>\n",
       "    </tr>\n",
       "    <tr>\n",
       "      <th>1</th>\n",
       "      <td>BFE1AFOs27scnnfeBf99ZA</td>\n",
       "    </tr>\n",
       "    <tr>\n",
       "      <th>2</th>\n",
       "      <td>7t-C0r1JRdoVD9FS7M-N7Q</td>\n",
       "    </tr>\n",
       "    <tr>\n",
       "      <th>3</th>\n",
       "      <td>rLnw0d-YYZvT9kR4y7h7_Q</td>\n",
       "    </tr>\n",
       "    <tr>\n",
       "      <th>4</th>\n",
       "      <td>Cv5M8MDw8a5NEWvw2AQ4nw</td>\n",
       "    </tr>\n",
       "  </tbody>\n",
       "</table>\n",
       "</div>"
      ],
      "text/plain": [
       "                 photo_id\n",
       "0  Un_Og6jfhazVn7CxszkKEw\n",
       "1  BFE1AFOs27scnnfeBf99ZA\n",
       "2  7t-C0r1JRdoVD9FS7M-N7Q\n",
       "3  rLnw0d-YYZvT9kR4y7h7_Q\n",
       "4  Cv5M8MDw8a5NEWvw2AQ4nw"
      ]
     },
     "execution_count": 17,
     "metadata": {},
     "output_type": "execute_result"
    }
   ],
   "source": [
    "pictures = pd.read_json(\"photos.json\", lines=True, nrows=nrows)[[\"photo_id\"]]\n",
    "\n",
    "pictures.head()"
   ]
  },
  {
   "cell_type": "code",
   "execution_count": 18,
   "id": "10c2dc5d",
   "metadata": {},
   "outputs": [
    {
     "name": "stdout",
     "output_type": "stream",
     "text": [
      "Done 10/199 999\n",
      "Done 20/199 999\n",
      "Done 30/199 999\n",
      "Done 40/199 999\n",
      "Done 50/199 999\n",
      "Done 60/199 999\n",
      "Done 70/199 999\n",
      "Done 80/199 999\n",
      "Done 90/199 999\n",
      "Done 100/199 999\n"
     ]
    }
   ],
   "source": [
    "def hisEqulColor(img):\n",
    "    ycrcb=cv2.cvtColor(img,cv2.COLOR_BGR2YCR_CB)\n",
    "    channels=cv2.split(ycrcb)\n",
    "    cv2.equalizeHist(channels[0],channels[0])\n",
    "    cv2.merge(channels,ycrcb)\n",
    "    cv2.cvtColor(ycrcb,cv2.COLOR_YCR_CB2BGR,img)\n",
    "    return img\n",
    "\n",
    "def preprocess_imgs():\n",
    "    done = 1\n",
    "    for index, row in pictures.iterrows():\n",
    "        img = cv2.imread(os.path.join(\"./yelp_photos\", f\"{row['photo_id']}.jpg\"), -1)\n",
    "        img = cv2.resize(img, (224, 224)) # resize to vgg16 input size\n",
    "        img = cv2.blur(img,(5, 5)) # apply gaussian blur\n",
    "        img = hisEqulColor(img) # equalize histogram\n",
    "        cv2.imwrite(os.path.join(save_path, f\"{row['photo_id']}.jpg\"), img) # save image\n",
    "        if not done % 10:\n",
    "            print(f\"Done {done}/199 999\")\n",
    "        done += 1\n",
    "        \n",
    "preprocess_imgs()"
   ]
  },
  {
   "cell_type": "code",
   "execution_count": null,
   "id": "3ab8e641",
   "metadata": {},
   "outputs": [],
   "source": []
  }
 ],
 "metadata": {
  "kernelspec": {
   "display_name": "Python 3 (ipykernel)",
   "language": "python",
   "name": "python3"
  },
  "language_info": {
   "codemirror_mode": {
    "name": "ipython",
    "version": 3
   },
   "file_extension": ".py",
   "mimetype": "text/x-python",
   "name": "python",
   "nbconvert_exporter": "python",
   "pygments_lexer": "ipython3",
   "version": "3.8.11"
  }
 },
 "nbformat": 4,
 "nbformat_minor": 5
}
